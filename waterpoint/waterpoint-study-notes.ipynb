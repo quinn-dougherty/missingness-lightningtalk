{
 "cells": [
  {
   "cell_type": "code",
   "execution_count": 1,
   "metadata": {},
   "outputs": [
    {
     "data": {
      "text/html": [
       "<table style=\"border: 2px solid white;\">\n",
       "<tr>\n",
       "<td style=\"vertical-align: top; border: 0px solid white\">\n",
       "<h3>Client</h3>\n",
       "<ul>\n",
       "  <li><b>Scheduler: </b>tcp://127.0.0.1:39577\n",
       "  <li><b>Dashboard: </b><a href='http://127.0.0.1:8787/status' target='_blank'>http://127.0.0.1:8787/status</a>\n",
       "</ul>\n",
       "</td>\n",
       "<td style=\"vertical-align: top; border: 0px solid white\">\n",
       "<h3>Cluster</h3>\n",
       "<ul>\n",
       "  <li><b>Workers: </b>2</li>\n",
       "  <li><b>Cores: </b>4</li>\n",
       "  <li><b>Memory: </b>2.00 GB</li>\n",
       "</ul>\n",
       "</td>\n",
       "</tr>\n",
       "</table>"
      ],
      "text/plain": [
       "<Client: scheduler='tcp://127.0.0.1:39577' processes=2 cores=4>"
      ]
     },
     "execution_count": 1,
     "metadata": {},
     "output_type": "execute_result"
    }
   ],
   "source": [
    "from dask.distributed import Client, progress\n",
    "client = Client(n_workers=2, threads_per_worker=2, memory_limit='1GB')\n",
    "client"
   ]
  },
  {
   "cell_type": "code",
   "execution_count": 2,
   "metadata": {},
   "outputs": [
    {
     "name": "stderr",
     "output_type": "stream",
     "text": [
      "Using TensorFlow backend.\n"
     ]
    },
    {
     "data": {
      "text/html": [
       "<div>\n",
       "<style scoped>\n",
       "    .dataframe tbody tr th:only-of-type {\n",
       "        vertical-align: middle;\n",
       "    }\n",
       "\n",
       "    .dataframe tbody tr th {\n",
       "        vertical-align: top;\n",
       "    }\n",
       "\n",
       "    .dataframe thead th {\n",
       "        text-align: right;\n",
       "    }\n",
       "</style>\n",
       "<table border=\"1\" class=\"dataframe\">\n",
       "  <thead>\n",
       "    <tr style=\"text-align: right;\">\n",
       "      <th></th>\n",
       "      <th>pc1</th>\n",
       "      <th>pc2</th>\n",
       "      <th>pc3</th>\n",
       "      <th>pc4</th>\n",
       "      <th>pc5</th>\n",
       "      <th>pc6</th>\n",
       "      <th>pc7</th>\n",
       "      <th>pc8</th>\n",
       "      <th>pc9</th>\n",
       "      <th>pc10</th>\n",
       "      <th>...</th>\n",
       "      <th>pc12</th>\n",
       "      <th>pc13</th>\n",
       "      <th>pc14</th>\n",
       "      <th>pc15</th>\n",
       "      <th>pc16</th>\n",
       "      <th>pc17</th>\n",
       "      <th>pc18</th>\n",
       "      <th>pc19</th>\n",
       "      <th>pc20</th>\n",
       "      <th>y</th>\n",
       "    </tr>\n",
       "  </thead>\n",
       "  <tbody>\n",
       "    <tr>\n",
       "      <th>0</th>\n",
       "      <td>-3.097843</td>\n",
       "      <td>-1.462656</td>\n",
       "      <td>-1.468433</td>\n",
       "      <td>1.344540</td>\n",
       "      <td>2.470875</td>\n",
       "      <td>-0.231420</td>\n",
       "      <td>-0.288755</td>\n",
       "      <td>-1.856303</td>\n",
       "      <td>0.125985</td>\n",
       "      <td>0.461903</td>\n",
       "      <td>...</td>\n",
       "      <td>-0.388310</td>\n",
       "      <td>0.671434</td>\n",
       "      <td>0.885379</td>\n",
       "      <td>-1.353271</td>\n",
       "      <td>1.244451</td>\n",
       "      <td>0.416598</td>\n",
       "      <td>0.577016</td>\n",
       "      <td>-0.496483</td>\n",
       "      <td>0.206665</td>\n",
       "      <td>1</td>\n",
       "    </tr>\n",
       "    <tr>\n",
       "      <th>1</th>\n",
       "      <td>1.383141</td>\n",
       "      <td>2.902360</td>\n",
       "      <td>-1.704113</td>\n",
       "      <td>-2.272890</td>\n",
       "      <td>-0.123384</td>\n",
       "      <td>-2.115764</td>\n",
       "      <td>-1.693482</td>\n",
       "      <td>-0.545425</td>\n",
       "      <td>-0.890894</td>\n",
       "      <td>0.495923</td>\n",
       "      <td>...</td>\n",
       "      <td>-0.522679</td>\n",
       "      <td>2.315934</td>\n",
       "      <td>-0.256382</td>\n",
       "      <td>1.033956</td>\n",
       "      <td>1.286728</td>\n",
       "      <td>1.166181</td>\n",
       "      <td>-1.226949</td>\n",
       "      <td>1.808140</td>\n",
       "      <td>0.350276</td>\n",
       "      <td>1</td>\n",
       "    </tr>\n",
       "    <tr>\n",
       "      <th>2</th>\n",
       "      <td>-2.900721</td>\n",
       "      <td>-0.609838</td>\n",
       "      <td>-1.166242</td>\n",
       "      <td>0.349704</td>\n",
       "      <td>1.958080</td>\n",
       "      <td>-0.138313</td>\n",
       "      <td>-2.728554</td>\n",
       "      <td>-2.931573</td>\n",
       "      <td>-0.352108</td>\n",
       "      <td>0.792521</td>\n",
       "      <td>...</td>\n",
       "      <td>-1.400305</td>\n",
       "      <td>1.552558</td>\n",
       "      <td>0.700345</td>\n",
       "      <td>-0.687829</td>\n",
       "      <td>0.863799</td>\n",
       "      <td>0.184842</td>\n",
       "      <td>0.241951</td>\n",
       "      <td>-1.328060</td>\n",
       "      <td>-0.376989</td>\n",
       "      <td>1</td>\n",
       "    </tr>\n",
       "    <tr>\n",
       "      <th>3</th>\n",
       "      <td>1.633112</td>\n",
       "      <td>-3.351487</td>\n",
       "      <td>-2.635620</td>\n",
       "      <td>0.029272</td>\n",
       "      <td>-0.660171</td>\n",
       "      <td>1.912512</td>\n",
       "      <td>-0.784475</td>\n",
       "      <td>-0.235328</td>\n",
       "      <td>-2.262109</td>\n",
       "      <td>-3.417716</td>\n",
       "      <td>...</td>\n",
       "      <td>0.515717</td>\n",
       "      <td>1.010999</td>\n",
       "      <td>0.606961</td>\n",
       "      <td>-0.518352</td>\n",
       "      <td>-0.041442</td>\n",
       "      <td>0.174319</td>\n",
       "      <td>-0.750950</td>\n",
       "      <td>0.621988</td>\n",
       "      <td>-0.697795</td>\n",
       "      <td>-1</td>\n",
       "    </tr>\n",
       "    <tr>\n",
       "      <th>4</th>\n",
       "      <td>3.907189</td>\n",
       "      <td>0.247174</td>\n",
       "      <td>3.948471</td>\n",
       "      <td>3.149479</td>\n",
       "      <td>-1.715389</td>\n",
       "      <td>-0.480070</td>\n",
       "      <td>0.574735</td>\n",
       "      <td>-1.135638</td>\n",
       "      <td>-3.650010</td>\n",
       "      <td>-0.527869</td>\n",
       "      <td>...</td>\n",
       "      <td>-0.117147</td>\n",
       "      <td>0.717229</td>\n",
       "      <td>1.832905</td>\n",
       "      <td>-1.546372</td>\n",
       "      <td>0.346698</td>\n",
       "      <td>-1.134791</td>\n",
       "      <td>-1.103692</td>\n",
       "      <td>0.386921</td>\n",
       "      <td>0.166135</td>\n",
       "      <td>-1</td>\n",
       "    </tr>\n",
       "  </tbody>\n",
       "</table>\n",
       "<p>5 rows × 21 columns</p>\n",
       "</div>"
      ],
      "text/plain": [
       "        pc1       pc2       pc3       pc4       pc5       pc6       pc7  \\\n",
       "0 -3.097843 -1.462656 -1.468433  1.344540  2.470875 -0.231420 -0.288755   \n",
       "1  1.383141  2.902360 -1.704113 -2.272890 -0.123384 -2.115764 -1.693482   \n",
       "2 -2.900721 -0.609838 -1.166242  0.349704  1.958080 -0.138313 -2.728554   \n",
       "3  1.633112 -3.351487 -2.635620  0.029272 -0.660171  1.912512 -0.784475   \n",
       "4  3.907189  0.247174  3.948471  3.149479 -1.715389 -0.480070  0.574735   \n",
       "\n",
       "        pc8       pc9      pc10  ...      pc12      pc13      pc14      pc15  \\\n",
       "0 -1.856303  0.125985  0.461903  ... -0.388310  0.671434  0.885379 -1.353271   \n",
       "1 -0.545425 -0.890894  0.495923  ... -0.522679  2.315934 -0.256382  1.033956   \n",
       "2 -2.931573 -0.352108  0.792521  ... -1.400305  1.552558  0.700345 -0.687829   \n",
       "3 -0.235328 -2.262109 -3.417716  ...  0.515717  1.010999  0.606961 -0.518352   \n",
       "4 -1.135638 -3.650010 -0.527869  ... -0.117147  0.717229  1.832905 -1.546372   \n",
       "\n",
       "       pc16      pc17      pc18      pc19      pc20  y  \n",
       "0  1.244451  0.416598  0.577016 -0.496483  0.206665  1  \n",
       "1  1.286728  1.166181 -1.226949  1.808140  0.350276  1  \n",
       "2  0.863799  0.184842  0.241951 -1.328060 -0.376989  1  \n",
       "3 -0.041442  0.174319 -0.750950  0.621988 -0.697795 -1  \n",
       "4  0.346698 -1.134791 -1.103692  0.386921  0.166135 -1  \n",
       "\n",
       "[5 rows x 21 columns]"
      ]
     },
     "execution_count": 2,
     "metadata": {},
     "output_type": "execute_result"
    }
   ],
   "source": [
    "import pandas as pd\n",
    "import numpy as np\n",
    "from scipy.stats import bernoulli \n",
    "from typing import List, Callable, Dict, Tuple, Iterable\n",
    "from fancyimpute import SimpleFill, KNN\n",
    "from sklearn.tree import DecisionTreeClassifier\n",
    "from sklearn.linear_model import LogisticRegression\n",
    "#from sklearn.impute import SimpleImputer\n",
    "#from sklearn.model_selection import cross_val_score as cvs\n",
    "from sklearn.decomposition import PCA\n",
    "from sklearn.preprocessing import StandardScaler\n",
    "from sklearn.experimental import enable_iterative_imputer \n",
    "from sklearn.impute import IterativeImputer\n",
    "import matplotlib.pyplot as plt\n",
    "import seaborn as sns\n",
    "#plt.style.use('dark_background')\n",
    "from category_encoders import BinaryEncoder\n",
    "from tqdm import tqdm\n",
    "import dask.dataframe as dd\n",
    "import pickle\n",
    "\n",
    "DataFrame = pd.core.frame.DataFrame\n",
    "Series = pd.core.series.Series\n",
    "Array = np.ndarray\n",
    "Imputer = Callable[[DataFrame], DataFrame]\n",
    "nan = np.nan\n",
    "\n",
    "df = dd.read_csv('data.csv').drop(['name'], axis=1)\n",
    "X_ = df.drop('status_group', axis=1)\n",
    "y = df.status_group\n",
    "\n",
    "be = BinaryEncoder()\n",
    "FEATS = 20\n",
    "\n",
    "pca = PCA(n_components = FEATS)\n",
    "\n",
    "vals= pca.fit_transform(StandardScaler().fit_transform(be.fit_transform(X_.compute())))\n",
    "\n",
    "X = pd.DataFrame(vals, columns=[f\"pc{k+1}\" for k in range(FEATS)], index=y.index).assign(y=y)\n",
    "\n",
    "# #X_15percent = demon(X, 0.15)\n",
    "\n",
    "# X_15percent.isna().sum(), X.isna().sum()\n",
    "X.head()"
   ]
  },
  {
   "cell_type": "code",
   "execution_count": 3,
   "metadata": {},
   "outputs": [
    {
     "data": {
      "text/plain": [
       "<matplotlib.lines.Line2D at 0x7f399706e710>"
      ]
     },
     "execution_count": 3,
     "metadata": {},
     "output_type": "execute_result"
    },
    {
     "data": {
      "image/png": "[encoded data removed]",
      "text/plain": [
       "<Figure size 432x288 with 1 Axes>"
      ]
     },
     "metadata": {
      "needs_background": "light"
     },
     "output_type": "display_data"
    }
   ],
   "source": [
    "vals_ = BinaryEncoder().fit_transform(X_.compute())\n",
    "from sklearn.decomposition import TruncatedSVD\n",
    "\n",
    "pca = PCA(n_components=vals_.shape[1])\n",
    "pca.fit(StandardScaler().fit_transform(vals_))\n",
    "plt.scatter(x=range(vals_.shape[1]), y=pca.explained_variance_ratio_.cumsum())\n",
    "plt.axhline(0.9);\n",
    "plt.axvline(FEATS)"
   ]
  },
  {
   "cell_type": "code",
   "execution_count": null,
   "metadata": {},
   "outputs": [],
   "source": []
  },
  {
   "cell_type": "markdown",
   "metadata": {},
   "source": [
    "1. refactor so X,y split happens after demon\n",
    "2. "
   ]
  },
  {
   "cell_type": "code",
   "execution_count": 7,
   "metadata": {},
   "outputs": [],
   "source": [
    "\n",
    "def mcar_goblin(dat: DataFrame, ratio: float) -> DataFrame: \n",
    "    ''' Simulate MCAR with bernoulli '''\n",
    "    def ident_or_nan(x: float) -> float:\n",
    "        ''' if heads, replace value with nan. if tails, identity '''\n",
    "        coin = bernoulli(ratio)\n",
    "        if coin.rvs()==1: \n",
    "            return nan\n",
    "        else: \n",
    "            return x\n",
    "    \n",
    "    return dat.assign(**{feat: [ident_or_nan(x) \n",
    "                                for x in dat[feat].values] \n",
    "                         for feat in dat.columns if feat!='y'})\n",
    "\n",
    "def coefs(imputer: Imputer, X: DataFrame, y: Series) -> Tuple[str, Array]: \n",
    "    ''' '''\n",
    "    lm = LogisticRegression(multi_class='auto', solver='lbfgs', max_iter=10000)\n",
    "    \n",
    "    lm.fit(imputer(X), y)\n",
    "    return (imputer.__name__, \n",
    "            np.array([sum(col**2)**0.5 for col in lm.coef_.T]) # column-norms, feature importances \n",
    "           )\n",
    "\n",
    "def idem(dat: DataFrame) -> DataFrame: \n",
    "    '''no missin'''\n",
    "    return dat\n",
    "    \n",
    "def fill_mean(dat: DataFrame) -> DataFrame: \n",
    "    return SimpleFill(fill_method='mean').fit_transform(dat)\n",
    "\n",
    "def fill_noise(dat: DataFrame) -> DataFrame: \n",
    "    return SimpleFill(fill_method='random').fit_transform(dat)\n",
    "\n",
    "def iterative(dat: DataFrame) -> DataFrame: \n",
    "    return IterativeImputer().fit_transform(dat)\n",
    "\n",
    "def knn(dat: DataFrame) -> DataFrame: \n",
    "    return KNN(verbose=False).fit_transform(dat)\n",
    "\n",
    "def drop(dat: DataFrame) -> DataFrame: \n",
    "    return dat.dropna(axis=0)\n",
    "\n",
    "imputers: List[Imputer] = [fill_mean, fill_noise, iterative, knn]#, drop]\n",
    "\n",
    "def experiment(imputers: List[Imputer], \n",
    "               X_: DataFrame, \n",
    "               y: Series, \n",
    "               ratio: float, \n",
    "               passes: int) -> Iterable[Tuple[Array, Array]]: \n",
    "    \n",
    "    control = coefs(idem, X_, y)\n",
    "    for k in tqdm(range(passes), desc=f\"goblin {ratio*100}% - {passes} passes\"): \n",
    "        X = mcar_goblin(X_, ratio)\n",
    "        for imputer in imputers: \n",
    "            yield control, coefs(imputer, X, y) \n",
    "        \n",
    "def result(xprmnt: Iterable[Tuple[Tuple[str, Array], \n",
    "                                  Tuple[str, Array]]]) -> DataFrame: \n",
    "    deltas = [(outcome[1][0], outcome[0][1] - outcome[1][1])\n",
    "              for outcome in xprmnt]\n",
    "    \n",
    "    return (DataFrame([[delt[0]] + list(delt[1]) for delt in deltas])\n",
    "            .rename(columns={**{0: 'imputer'}}))#, **{k: f\"coef_norm_{k}\" for k in range(1, FEATS+1)}}))"
   ]
  },
  {
   "cell_type": "code",
   "execution_count": 52,
   "metadata": {},
   "outputs": [
    {
     "data": {
      "text/plain": [
       "(352, 2)"
      ]
     },
     "execution_count": 52,
     "metadata": {},
     "output_type": "execute_result"
    }
   ],
   "source": [
    "# type(coefs(fill_mean, X, y)[1])\n",
    "TRIALS = 4\n",
    "result_df_40percent = result(experiment(imputers, X, y, 0.4, TRIALS)).drop('imputer', axis=1).values.reshape(-1, 1)\n",
    "result_df_20percent = result(experiment(imputers, X, y, 0.2, TRIALS)).drop('imputer', axis=1).values.reshape(-1, 1)\n",
    "\n",
    "with open(\"results_tuple.pickle\", \"wb\") as serialize_results: \n",
    "    pickle.dump((result_df_40percent, result_df_20percent), serialize_results)\n",
    "\n",
    "# result_df = DataFrame().assign(twenty = result_df_20percent.drop('imputer', axis=1).T.mean(), \n",
    "#                                fourty = result_df_40percent.drop('imputer', axis=1).T.mean())\n",
    "\n",
    "#assert result_df_20percent.drop('imputer', axis=1).values.reshape(-1, 1).shape[0] == result_df_20percent.drop('imputer', axis=1).shape[0] * result_df_20percent.drop('imputer', axis=1).shape[1]\n",
    "\n",
    "result_df = DataFrame().assign(twenty_percent_goblin = result_df_20percent.T[0], fourty_percent_goblin = result_df_40percent.T[0])\n",
    "\n",
    "#result_df_40percent.T[0]\n",
    "\n",
    "result_df"
   ]
  },
  {
   "cell_type": "code",
   "execution_count": 19,
   "metadata": {},
   "outputs": [
    {
     "data": {
      "image/png": "[encoded data removed]",
      "text/plain": [
       "<Figure size 432x288 with 1 Axes>"
      ]
     },
     "metadata": {
      "needs_background": "light"
     },
     "output_type": "display_data"
    }
   ],
   "source": [
    "result_df[abs(result_df.fourty) < 0.6].boxplot();"
   ]
  },
  {
   "cell_type": "code",
   "execution_count": 48,
   "metadata": {},
   "outputs": [],
   "source": [
    "#result_df.drop('imputer', axis=1).T.sum()"
   ]
  },
  {
   "cell_type": "code",
   "execution_count": 29,
   "metadata": {},
   "outputs": [
    {
     "data": {
      "text/plain": [
       "(336, 1)"
      ]
     },
     "execution_count": 29,
     "metadata": {},
     "output_type": "execute_result"
    }
   ],
   "source": [
    "result_df_20percent.drop('imputer', axis=1).values.reshape(-1, 1).shape"
   ]
  },
  {
   "cell_type": "code",
   "execution_count": 35,
   "metadata": {},
   "outputs": [],
   "source": []
  },
  {
   "cell_type": "code",
   "execution_count": null,
   "metadata": {},
   "outputs": [],
   "source": []
  },
  {
   "cell_type": "markdown",
   "metadata": {},
   "source": [
    "# MAR modeling"
   ]
  },
  {
   "cell_type": "code",
   "execution_count": 50,
   "metadata": {},
   "outputs": [
    {
     "data": {
      "text/html": [
       "<div>\n",
       "<style scoped>\n",
       "    .dataframe tbody tr th:only-of-type {\n",
       "        vertical-align: middle;\n",
       "    }\n",
       "\n",
       "    .dataframe tbody tr th {\n",
       "        vertical-align: top;\n",
       "    }\n",
       "\n",
       "    .dataframe thead th {\n",
       "        text-align: right;\n",
       "    }\n",
       "</style>\n",
       "<table border=\"1\" class=\"dataframe\">\n",
       "  <thead>\n",
       "    <tr style=\"text-align: right;\">\n",
       "      <th></th>\n",
       "      <th>feat_1</th>\n",
       "      <th>feat_2</th>\n",
       "      <th>feat_3</th>\n",
       "      <th>feat_4</th>\n",
       "      <th>feat_5</th>\n",
       "      <th>feat_6</th>\n",
       "      <th>feat_7</th>\n",
       "      <th>feat_8</th>\n",
       "      <th>feat_9</th>\n",
       "      <th>feat_10</th>\n",
       "      <th>y</th>\n",
       "    </tr>\n",
       "  </thead>\n",
       "  <tbody>\n",
       "    <tr>\n",
       "      <th>0</th>\n",
       "      <td>35993.919633</td>\n",
       "      <td>-14.341891</td>\n",
       "      <td>472.707283</td>\n",
       "      <td>284.041525</td>\n",
       "      <td>1.359304</td>\n",
       "      <td>-7.520371</td>\n",
       "      <td>-2.977720</td>\n",
       "      <td>0.902390</td>\n",
       "      <td>1.604534</td>\n",
       "      <td>2.182541</td>\n",
       "      <td>1</td>\n",
       "    </tr>\n",
       "    <tr>\n",
       "      <th>1</th>\n",
       "      <td>24570.781502</td>\n",
       "      <td>-202.109411</td>\n",
       "      <td>-430.016138</td>\n",
       "      <td>-250.244303</td>\n",
       "      <td>1.432325</td>\n",
       "      <td>-2.830826</td>\n",
       "      <td>0.615532</td>\n",
       "      <td>0.545489</td>\n",
       "      <td>2.262331</td>\n",
       "      <td>-0.264660</td>\n",
       "      <td>1</td>\n",
       "    </tr>\n",
       "    <tr>\n",
       "      <th>2</th>\n",
       "      <td>-20489.058358</td>\n",
       "      <td>189.552166</td>\n",
       "      <td>458.464012</td>\n",
       "      <td>328.190463</td>\n",
       "      <td>-0.184663</td>\n",
       "      <td>-8.168553</td>\n",
       "      <td>-2.584106</td>\n",
       "      <td>2.350798</td>\n",
       "      <td>2.760817</td>\n",
       "      <td>2.071968</td>\n",
       "      <td>1</td>\n",
       "    </tr>\n",
       "    <tr>\n",
       "      <th>3</th>\n",
       "      <td>29568.830210</td>\n",
       "      <td>-332.620346</td>\n",
       "      <td>728.267152</td>\n",
       "      <td>111.001718</td>\n",
       "      <td>0.523891</td>\n",
       "      <td>-4.123882</td>\n",
       "      <td>-0.113707</td>\n",
       "      <td>-3.627478</td>\n",
       "      <td>0.045240</td>\n",
       "      <td>-1.043646</td>\n",
       "      <td>-1</td>\n",
       "    </tr>\n",
       "    <tr>\n",
       "      <th>4</th>\n",
       "      <td>-32462.170964</td>\n",
       "      <td>-329.538300</td>\n",
       "      <td>721.842341</td>\n",
       "      <td>117.308182</td>\n",
       "      <td>-2.236597</td>\n",
       "      <td>-0.054609</td>\n",
       "      <td>6.958001</td>\n",
       "      <td>0.709138</td>\n",
       "      <td>0.077878</td>\n",
       "      <td>-0.809528</td>\n",
       "      <td>-1</td>\n",
       "    </tr>\n",
       "  </tbody>\n",
       "</table>\n",
       "</div>"
      ],
      "text/plain": [
       "         feat_1      feat_2      feat_3      feat_4    feat_5    feat_6  \\\n",
       "0  35993.919633  -14.341891  472.707283  284.041525  1.359304 -7.520371   \n",
       "1  24570.781502 -202.109411 -430.016138 -250.244303  1.432325 -2.830826   \n",
       "2 -20489.058358  189.552166  458.464012  328.190463 -0.184663 -8.168553   \n",
       "3  29568.830210 -332.620346  728.267152  111.001718  0.523891 -4.123882   \n",
       "4 -32462.170964 -329.538300  721.842341  117.308182 -2.236597 -0.054609   \n",
       "\n",
       "     feat_7    feat_8    feat_9   feat_10  y  \n",
       "0 -2.977720  0.902390  1.604534  2.182541  1  \n",
       "1  0.615532  0.545489  2.262331 -0.264660  1  \n",
       "2 -2.584106  2.350798  2.760817  2.071968  1  \n",
       "3 -0.113707 -3.627478  0.045240 -1.043646 -1  \n",
       "4  6.958001  0.709138  0.077878 -0.809528 -1  "
      ]
     },
     "execution_count": 50,
     "metadata": {},
     "output_type": "execute_result"
    }
   ],
   "source": [
    "\n",
    "#X_30percent = demon(X, 0.30)\n",
    "\n",
    "X.head()"
   ]
  },
  {
   "cell_type": "code",
   "execution_count": 58,
   "metadata": {},
   "outputs": [
    {
     "data": {
      "text/plain": [
       "8"
      ]
     },
     "execution_count": 58,
     "metadata": {},
     "output_type": "execute_result"
    }
   ],
   "source": [
    "from numpy.random import choice, randint\n",
    "\n",
    "cols = X.columns\n",
    "\n",
    "\n",
    "randint(len(X.columns) - 1)"
   ]
  },
  {
   "cell_type": "code",
   "execution_count": null,
   "metadata": {},
   "outputs": [],
   "source": []
  },
  {
   "cell_type": "code",
   "execution_count": 45,
   "metadata": {},
   "outputs": [
    {
     "data": {
      "text/plain": [
       "pandas.core.frame.DataFrame"
      ]
     },
     "execution_count": 45,
     "metadata": {},
     "output_type": "execute_result"
    }
   ],
   "source": [
    "type(drop(X))"
   ]
  },
  {
   "cell_type": "code",
   "execution_count": null,
   "metadata": {},
   "outputs": [],
   "source": []
  },
  {
   "cell_type": "code",
   "execution_count": 91,
   "metadata": {},
   "outputs": [],
   "source": []
  },
  {
   "cell_type": "code",
   "execution_count": null,
   "metadata": {},
   "outputs": [],
   "source": []
  },
  {
   "cell_type": "code",
   "execution_count": null,
   "metadata": {},
   "outputs": [],
   "source": []
  }
 ],
 "metadata": {
  "kernelspec": {
   "display_name": "Python 3",
   "language": "python",
   "name": "python3"
  },
  "language_info": {
   "codemirror_mode": {
    "name": "ipython",
    "version": 3
   },
   "file_extension": ".py",
   "mimetype": "text/x-python",
   "name": "python",
   "nbconvert_exporter": "python",
   "pygments_lexer": "ipython3",
   "version": "3.7.3"
  }
 },
 "nbformat": 4,
 "nbformat_minor": 2
}
