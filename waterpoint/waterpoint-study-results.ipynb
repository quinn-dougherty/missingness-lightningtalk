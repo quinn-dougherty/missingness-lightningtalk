{
 "cells": [
  {
   "cell_type": "code",
   "execution_count": 1,
   "metadata": {},
   "outputs": [
    {
     "name": "stdout",
     "output_type": "stream",
     "text": [
      "Using TensorFlow backend.\n",
      "goblin 10.0% | 10 passes:  30%|█████            | 3/10 [09:29<22:29, 192.78s/it]/opt/conda/lib/python3.7/site-packages/sklearn/impute/_iterative.py:599: ConvergenceWarning: [IterativeImputer] Early stopping criterion not reached.\n",
      "  \" reached.\", ConvergenceWarning)\n",
      "goblin 10.0% | 10 passes:  50%|████████▌        | 5/10 [16:02<16:10, 194.03s/it]/opt/conda/lib/python3.7/site-packages/sklearn/impute/_iterative.py:599: ConvergenceWarning: [IterativeImputer] Early stopping criterion not reached.\n",
      "  \" reached.\", ConvergenceWarning)\n",
      "goblin 10.0% | 10 passes:  60%|██████████▏      | 6/10 [19:15<12:54, 193.66s/it]/opt/conda/lib/python3.7/site-packages/sklearn/impute/_iterative.py:599: ConvergenceWarning: [IterativeImputer] Early stopping criterion not reached.\n",
      "  \" reached.\", ConvergenceWarning)\n",
      "goblin 10.0% | 10 passes:  70%|███████████▉     | 7/10 [22:28<09:40, 193.43s/it]/opt/conda/lib/python3.7/site-packages/sklearn/impute/_iterative.py:599: ConvergenceWarning: [IterativeImputer] Early stopping criterion not reached.\n",
      "  \" reached.\", ConvergenceWarning)\n",
      "goblin 10.0% | 10 passes:  80%|█████████████▌   | 8/10 [25:41<06:26, 193.29s/it]/opt/conda/lib/python3.7/site-packages/sklearn/impute/_iterative.py:599: ConvergenceWarning: [IterativeImputer] Early stopping criterion not reached.\n",
      "  \" reached.\", ConvergenceWarning)\n",
      "goblin 10.0% | 10 passes: 100%|████████████████| 10/10 [31:45<00:00, 186.66s/it]\n",
      "goblin 30.0% | 10 passes: 100%|████████████████| 10/10 [30:08<00:00, 181.18s/it]\n"
     ]
    }
   ],
   "source": [
    "!python waterpoint-study.py --trials 10"
   ]
  },
  {
   "cell_type": "code",
   "execution_count": 2,
   "metadata": {},
   "outputs": [],
   "source": [
    "import pickle\n",
    "results_tuple_path = \"results_tuple.pickle\"\n",
    "import matplotlib.pyplot as plt\n",
    "from pandas import DataFrame\n",
    "#plt.style.use('dark_background')"
   ]
  },
  {
   "cell_type": "code",
   "execution_count": 6,
   "metadata": {},
   "outputs": [
    {
     "data": {
      "image/png": "[encoded data removed]",
      "text/plain": [
       "<Figure size 432x288 with 1 Axes>"
      ]
     },
     "metadata": {
      "needs_background": "light"
     },
     "output_type": "display_data"
    }
   ],
   "source": [
    "with open(results_tuple_path, \"rb\") as deserialize: \n",
    "    result_10percent, result_30percent = pickle.load(deserialize)\n",
    "\n",
    "result_df = DataFrame().assign(ten_percent_goblin = result_10percent.T[0], thirty_percent_goblin = result_30percent.T[0])\n",
    "\n",
    "result_df[abs(result_df) < 0.25].boxplot();"
   ]
  },
  {
   "cell_type": "code",
   "execution_count": 4,
   "metadata": {},
   "outputs": [
    {
     "data": {
      "text/plain": [
       "(2840, 2)"
      ]
     },
     "execution_count": 4,
     "metadata": {},
     "output_type": "execute_result"
    }
   ],
   "source": [
    "result_df.shape"
   ]
  },
  {
   "cell_type": "code",
   "execution_count": null,
   "metadata": {},
   "outputs": [],
   "source": []
  },
  {
   "cell_type": "code",
   "execution_count": null,
   "metadata": {},
   "outputs": [],
   "source": []
  }
 ],
 "metadata": {
  "kernelspec": {
   "display_name": "Python 3",
   "language": "python",
   "name": "python3"
  },
  "language_info": {
   "codemirror_mode": {
    "name": "ipython",
    "version": 3
   },
   "file_extension": ".py",
   "mimetype": "text/x-python",
   "name": "python",
   "nbconvert_exporter": "python",
   "pygments_lexer": "ipython3",
   "version": "3.7.3"
  }
 },
 "nbformat": 4,
 "nbformat_minor": 2
}
